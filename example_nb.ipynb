{
 "cells": [
  {
   "cell_type": "markdown",
   "metadata": {},
   "source": [
    "## Predict 2D material properties with graph networks"
   ]
  },
  {
   "cell_type": "code",
   "execution_count": null,
   "metadata": {
    "colab": {},
    "colab_type": "code",
    "id": "4xOLN6nQzROG"
   },
   "outputs": [],
   "source": [
    "!pip install megnet pymatgen"
   ]
  },
  {
   "cell_type": "code",
   "execution_count": null,
   "metadata": {
    "colab": {},
    "colab_type": "code",
    "id": "7qyW5FHQzbTI"
   },
   "outputs": [],
   "source": [
    "from monty.serialization import loadfn\n",
    "from pymatgen import Structure\n",
    "from megnet.models import MEGNetModel"
   ]
  },
  {
   "cell_type": "code",
   "execution_count": null,
   "metadata": {
    "colab": {
     "base_uri": "https://localhost:8080/",
     "height": 70
    },
    "colab_type": "code",
    "executionInfo": {
     "elapsed": 13708,
     "status": "ok",
     "timestamp": 1585344640137,
     "user": {
      "displayName": "Nathan Frey",
      "photoUrl": "https://lh3.googleusercontent.com/a-/AOh14GhFbpfEV4cAHn40GgWVXbOQx2G8idKN047B_ysb=s64",
      "userId": "14838914823565259795"
     },
     "user_tz": 240
    },
    "id": "0QRBFIATz9lW",
    "outputId": "f8aa5afe-7bbd-45be-9f32-5cc6c2bde440"
   },
   "outputs": [],
   "source": [
    "# Load a model for heat of formation\n",
    "model = MEGNetModel.from_file('models/2d_hform_model.hdf5')"
   ]
  },
  {
   "cell_type": "code",
   "execution_count": null,
   "metadata": {
    "colab": {},
    "colab_type": "code",
    "id": "0qzkmcE03kCK"
   },
   "outputs": [],
   "source": [
    "# Load pymatgen structures\n",
    "path = 'structures/'\n",
    "graphene = Structure.from_file(path + 'graphene_structure.json')\n",
    "mos2 = Structure.from_file(path + 'MoS2_structure.json')\n",
    "bn = Structure.from_file(path + 'BN_structure.json')"
   ]
  },
  {
   "cell_type": "code",
   "execution_count": null,
   "metadata": {
    "colab": {
     "base_uri": "https://localhost:8080/",
     "height": 34
    },
    "colab_type": "code",
    "executionInfo": {
     "elapsed": 539,
     "status": "ok",
     "timestamp": 1585344718627,
     "user": {
      "displayName": "Nathan Frey",
      "photoUrl": "https://lh3.googleusercontent.com/a-/AOh14GhFbpfEV4cAHn40GgWVXbOQx2G8idKN047B_ysb=s64",
      "userId": "14838914823565259795"
     },
     "user_tz": 240
    },
    "id": "JqCYIb0l1EJw",
    "outputId": "a98aa00c-288a-4124-cb55-509f7ff0d156"
   },
   "outputs": [],
   "source": [
    "# Predict from a pymatgen structure; DFT calculated value is in parentheses\n",
    "round(model.predict_structure(graphene)[0], 2)  # (-0.01 eV/atom)"
   ]
  },
  {
   "cell_type": "code",
   "execution_count": null,
   "metadata": {
    "colab": {
     "base_uri": "https://localhost:8080/",
     "height": 34
    },
    "colab_type": "code",
    "executionInfo": {
     "elapsed": 322,
     "status": "ok",
     "timestamp": 1585344807281,
     "user": {
      "displayName": "Nathan Frey",
      "photoUrl": "https://lh3.googleusercontent.com/a-/AOh14GhFbpfEV4cAHn40GgWVXbOQx2G8idKN047B_ysb=s64",
      "userId": "14838914823565259795"
     },
     "user_tz": 240
    },
    "id": "hhOhdn-g6I6u",
    "outputId": "b6dadf52-8950-4663-e804-e801c082e713"
   },
   "outputs": [],
   "source": [
    "round(model.predict_structure(mos2)[0], 2)  # (-0.92 eV/atom)"
   ]
  },
  {
   "cell_type": "code",
   "execution_count": null,
   "metadata": {
    "colab": {
     "base_uri": "https://localhost:8080/",
     "height": 34
    },
    "colab_type": "code",
    "executionInfo": {
     "elapsed": 560,
     "status": "ok",
     "timestamp": 1585344870118,
     "user": {
      "displayName": "Nathan Frey",
      "photoUrl": "https://lh3.googleusercontent.com/a-/AOh14GhFbpfEV4cAHn40GgWVXbOQx2G8idKN047B_ysb=s64",
      "userId": "14838914823565259795"
     },
     "user_tz": 240
    },
    "id": "-BL-e0Ha6f4I",
    "outputId": "0ad3e1c6-e6ad-4ba9-dfc6-f7e99e08c04c"
   },
   "outputs": [],
   "source": [
    "round(model.predict_structure(bn)[0], 2)  # (-1.29 eV/atom)"
   ]
  },
  {
   "cell_type": "code",
   "execution_count": null,
   "metadata": {
    "colab": {},
    "colab_type": "code",
    "id": "DxWQJNsh6vRr"
   },
   "outputs": [],
   "source": [
    "# Predict band gaps for insulators\n",
    "model = MEGNetModel.from_file('models/2d_band_reg_model.hdf5')"
   ]
  },
  {
   "cell_type": "code",
   "execution_count": null,
   "metadata": {},
   "outputs": [],
   "source": [
    "for material in [mos2, bn]:\n",
    "    print(material.composition.reduced_formula, model.predict_structure(material)[0], 'eV')"
   ]
  }
 ],
 "metadata": {
  "colab": {
   "authorship_tag": "ABX9TyPHpiyIjUms9EvBb1FbUWuD",
   "collapsed_sections": [],
   "mount_file_id": "1n6IgBANvCiOpG3Q3N5ywEnbJiwuGiXT6",
   "name": "example_nb.ipynb",
   "provenance": []
  },
  "kernelspec": {
   "display_name": "pmg_env",
   "language": "python",
   "name": "pmg_env"
  },
  "language_info": {
   "codemirror_mode": {
    "name": "ipython",
    "version": 3
   },
   "file_extension": ".py",
   "mimetype": "text/x-python",
   "name": "python",
   "nbconvert_exporter": "python",
   "pygments_lexer": "ipython3",
   "version": "3.6.7"
  }
 },
 "nbformat": 4,
 "nbformat_minor": 4
}
